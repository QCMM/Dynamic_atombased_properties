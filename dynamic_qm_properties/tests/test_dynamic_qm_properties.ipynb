{
 "cells": [
  {
   "cell_type": "code",
   "execution_count": 5,
   "metadata": {},
   "outputs": [],
   "source": [
    "import sys\n",
    "sys.path.append(\"/home/david/Dropbox/projects17/DynQMProp/code/dynamic_qm_properties/dynamic_qm_properties\")\n",
    "\n",
    "# Import package, test suite, and other packages as needed\n",
    "import dynamic_qm_properties as dqp\n",
    "import pytest\n"
   ]
  },
  {
   "cell_type": "code",
   "execution_count": 6,
   "metadata": {},
   "outputs": [],
   "source": [
    "etanol=dqp.input2mol2('etanol.sdf')"
   ]
  },
  {
   "cell_type": "code",
   "execution_count": 7,
   "metadata": {},
   "outputs": [
    {
     "data": {
      "text/plain": [
       "('/home/david/Dropbox/projects17/DynQMProp/code/dynamic_qm_properties/dynamic_qm_properties/tests/etanol.gaff.mol2',\n",
       " '/home/david/Dropbox/projects17/DynQMProp/code/dynamic_qm_properties/dynamic_qm_properties/tests/etanol.frcmod')"
      ]
     },
     "execution_count": 7,
     "metadata": {},
     "output_type": "execute_result"
    }
   ],
   "source": [
    "dqp.amber.run_antechamber('etanol',etanol)"
   ]
  },
  {
   "cell_type": "code",
   "execution_count": 8,
   "metadata": {},
   "outputs": [
    {
     "data": {
      "text/plain": [
       "('/home/david/Dropbox/projects17/DynQMProp/code/dynamic_qm_properties/dynamic_qm_properties/tests/etanol.prmtop',\n",
       " '/home/david/Dropbox/projects17/DynQMProp/code/dynamic_qm_properties/dynamic_qm_properties/tests/etanol.inpcrd')"
      ]
     },
     "execution_count": 8,
     "metadata": {},
     "output_type": "execute_result"
    }
   ],
   "source": [
    "dqp.run_tleap_solv('etanol','etanol.gaff.mol2','etanol.frcmod')"
   ]
  },
  {
   "cell_type": "code",
   "execution_count": null,
   "metadata": {},
   "outputs": [],
   "source": []
  }
 ],
 "metadata": {
  "kernelspec": {
   "display_name": "Python 3",
   "language": "python",
   "name": "python3"
  },
  "language_info": {
   "codemirror_mode": {
    "name": "ipython",
    "version": 3
   },
   "file_extension": ".py",
   "mimetype": "text/x-python",
   "name": "python",
   "nbconvert_exporter": "python",
   "pygments_lexer": "ipython3",
   "version": "3.6.6"
  }
 },
 "nbformat": 4,
 "nbformat_minor": 2
}
